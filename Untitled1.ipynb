{
 "cells": [
  {
   "cell_type": "code",
   "execution_count": 1,
   "metadata": {},
   "outputs": [],
   "source": [
    "from utils import *\n",
    "import tqdm\n",
    "import time\n",
    "from multiprocessing import Pool\n",
    "from matplotlib import pyplot as plt "
   ]
  },
  {
   "cell_type": "code",
   "execution_count": null,
   "metadata": {
    "scrolled": false
   },
   "outputs": [
    {
     "name": "stderr",
     "output_type": "stream",
     "text": [
      "  0%|          | 0/21 [00:00<?, ?it/s]\n",
      "  0%|          | 0/21 [00:00<?, ?it/s]\u001b[A\n",
      "  5%|▍         | 1/21 [45:21<15:07:04, 2721.20s/it]\u001b[A"
     ]
    },
    {
     "name": "stdout",
     "output_type": "stream",
     "text": [
      "[0.7380256400211449, 0.7380261680541622, 0.7380634000000016]\n"
     ]
    },
    {
     "name": "stderr",
     "output_type": "stream",
     "text": [
      "\n",
      " 10%|▉         | 2/21 [1:31:17<14:25:02, 2731.72s/it]\u001b[A"
     ]
    },
    {
     "name": "stdout",
     "output_type": "stream",
     "text": [
      "[0.6000661575320555, 0.600065551481486, 0.6001388000000009]\n"
     ]
    },
    {
     "name": "stderr",
     "output_type": "stream",
     "text": [
      "\n",
      " 14%|█▍        | 3/21 [2:16:24<13:37:18, 2724.36s/it]\u001b[A"
     ]
    },
    {
     "name": "stdout",
     "output_type": "stream",
     "text": [
      "[0.7970098074050097, 0.7970073206024227, 0.797021800000002]\n"
     ]
    },
    {
     "name": "stderr",
     "output_type": "stream",
     "text": [
      "\n",
      " 19%|█▉        | 4/21 [3:00:17<12:44:08, 2696.97s/it]\u001b[A"
     ]
    },
    {
     "name": "stdout",
     "output_type": "stream",
     "text": [
      "[0.6988681610035056, 0.6988679116115434, 0.6989188000000018]\n"
     ]
    },
    {
     "name": "stderr",
     "output_type": "stream",
     "text": [
      "\n",
      " 24%|██▍       | 5/21 [3:43:24<11:50:21, 2663.86s/it]\u001b[A"
     ]
    },
    {
     "name": "stdout",
     "output_type": "stream",
     "text": [
      "[0.7972841394853996, 0.7972817227448382, 0.7972970000000019]\n"
     ]
    },
    {
     "name": "stderr",
     "output_type": "stream",
     "text": [
      "\n",
      " 29%|██▊       | 6/21 [4:28:00<11:06:54, 2667.61s/it]\u001b[A"
     ]
    },
    {
     "name": "stdout",
     "output_type": "stream",
     "text": [
      "[0.7386451044903305, 0.7386418540279045, 0.7387122000000018]\n"
     ]
    },
    {
     "name": "stderr",
     "output_type": "stream",
     "text": [
      "\n",
      " 33%|███▎      | 7/21 [5:11:49<10:19:45, 2656.09s/it]\u001b[A"
     ]
    },
    {
     "name": "stdout",
     "output_type": "stream",
     "text": [
      "[0.7774621363742708, 0.7774609235788345, 0.7774916000000021]\n"
     ]
    },
    {
     "name": "stderr",
     "output_type": "stream",
     "text": [
      "\n",
      " 38%|███▊      | 8/21 [5:56:36<9:37:30, 2665.39s/it] \u001b[A"
     ]
    },
    {
     "name": "stdout",
     "output_type": "stream",
     "text": [
      "[0.7383897900910076, 0.738387508898092, 0.7384506000000021]\n"
     ]
    },
    {
     "name": "stderr",
     "output_type": "stream",
     "text": [
      "\n",
      " 43%|████▎     | 9/21 [6:41:00<8:52:56, 2664.70s/it]\u001b[A"
     ]
    },
    {
     "name": "stdout",
     "output_type": "stream",
     "text": [
      "[0.7587366733539569, 0.758736474867999, 0.7588072000000018]\n"
     ]
    },
    {
     "name": "stderr",
     "output_type": "stream",
     "text": [
      "\n",
      " 48%|████▊     | 10/21 [7:24:23<8:05:09, 2646.32s/it]\u001b[A"
     ]
    },
    {
     "name": "stdout",
     "output_type": "stream",
     "text": [
      "[0.7978050473995782, 0.7978062054985444, 0.797848800000002]\n"
     ]
    },
    {
     "name": "stderr",
     "output_type": "stream",
     "text": [
      "\n",
      " 52%|█████▏    | 11/21 [8:07:56<7:19:22, 2636.25s/it]\u001b[A"
     ]
    },
    {
     "name": "stdout",
     "output_type": "stream",
     "text": [
      "[0.856549504499905, 0.8565506529525057, 0.856560400000002]\n"
     ]
    },
    {
     "name": "stderr",
     "output_type": "stream",
     "text": [
      "\n",
      " 57%|█████▋    | 12/21 [8:51:38<6:34:49, 2632.13s/it]\u001b[A"
     ]
    },
    {
     "name": "stdout",
     "output_type": "stream",
     "text": [
      "[0.7391471654658716, 0.7391473454531998, 0.7392546000000018]\n"
     ]
    },
    {
     "name": "stderr",
     "output_type": "stream",
     "text": [
      "\n",
      " 62%|██████▏   | 13/21 [9:35:38<5:51:15, 2634.44s/it]\u001b[A"
     ]
    },
    {
     "name": "stdout",
     "output_type": "stream",
     "text": [
      "[0.7779399587088056, 0.7779404136013285, 0.7779916000000021]\n"
     ]
    },
    {
     "name": "stderr",
     "output_type": "stream",
     "text": [
      "\n",
      " 67%|██████▋   | 14/21 [10:19:14<5:06:41, 2628.83s/it]\u001b[A"
     ]
    },
    {
     "name": "stdout",
     "output_type": "stream",
     "text": [
      "[0.7981993143398453, 0.798198933063128, 0.7982714000000019]\n"
     ]
    },
    {
     "name": "stderr",
     "output_type": "stream",
     "text": [
      "\n",
      " 71%|███████▏  | 15/21 [11:02:54<4:22:36, 2626.10s/it]\u001b[A"
     ]
    },
    {
     "name": "stdout",
     "output_type": "stream",
     "text": [
      "[0.7975979548444834, 0.7975987993287583, 0.7976436000000022]\n"
     ]
    },
    {
     "name": "stderr",
     "output_type": "stream",
     "text": [
      "\n",
      " 76%|███████▌  | 16/21 [11:46:18<3:38:17, 2619.60s/it]\u001b[A"
     ]
    },
    {
     "name": "stdout",
     "output_type": "stream",
     "text": [
      "[0.856861866719475, 0.8568645682554774, 0.8568778000000025]\n"
     ]
    },
    {
     "name": "stderr",
     "output_type": "stream",
     "text": [
      "\n",
      " 81%|████████  | 17/21 [12:30:16<2:55:00, 2625.05s/it]\u001b[A"
     ]
    },
    {
     "name": "stdout",
     "output_type": "stream",
     "text": [
      "[0.876732810196692, 0.8767338076096743, 0.8767608000000024]\n"
     ]
    },
    {
     "name": "stderr",
     "output_type": "stream",
     "text": [
      "\n",
      " 86%|████████▌ | 18/21 [13:14:32<2:11:43, 2634.37s/it]\u001b[A"
     ]
    },
    {
     "name": "stdout",
     "output_type": "stream",
     "text": [
      "[0.8372194684513155, 0.8372189557626419, 0.8372588000000024]\n"
     ]
    }
   ],
   "source": [
    "data_file = \"/home/randy/Documents/social net/data/tij_pres_InVS13.dat\"\n",
    "meta_file = \"/home/randy/Documents/social net/data/metadata_InVS13.dat\"\n",
    "G,node_label,edges = read_data(meta_file,data_file)\n",
    "edges_w = edge_weights(edges,1)\n",
    "G = construct_graph(G,edges_w)\n",
    "deal_unconnected(G)\n",
    "\n",
    "for a in tqdm.tqdm(range(0,21)):\n",
    "    for b in tqdm.tqdm(range(0,21-a)):\n",
    "        c =20-a-b\n",
    "        args = []\n",
    "        for i in range(100):\n",
    "            args.append([G,0.1,a*0.05,b*0.05,c*0.05,5,0.5,0.2,10000])\n",
    "        pool = Pool(processes=11)\n",
    "        result = pool.map(evole, args)\n",
    "        re = []\n",
    "        for j in range(3):\n",
    "            re.append(sum([x[j] for x in result])/len(result))\n",
    "        print(re)\n",
    "    #re = evole(G,p=0.1,alpha=0.3,beta=0.5,gamma=0.2,tau=20,lmd=0.1,rho=r/10,round_num=1000)\n",
    "    #results.append(re)"
   ]
  },
  {
   "cell_type": "code",
   "execution_count": 16,
   "metadata": {},
   "outputs": [
    {
     "name": "stdout",
     "output_type": "stream",
     "text": [
      "[[0.9987787466424869, 0.9987783043161184, 0.9988200000000008], [0.9987182532043005, 0.9987161268926789, 0.9987000000000005], [0.9991570055812374, 0.9991569810423662, 0.9991600000000005], [0.998911766359963, 0.9989118038392957, 0.9989600000000005], [0.998424734032321, 0.9984256698222981, 0.9983600000000008], [0.9986873659421951, 0.998686746152096, 0.9987200000000006], [0.9988145674375664, 0.9988139457414072, 0.9987800000000004], [0.9987124461196607, 0.998710502125728, 0.9986800000000007], [0.9983147880848007, 0.998314370281757, 0.9983000000000011], [0.9988957662485434, 0.9989034972769026, 0.9988400000000006], [0.9989312322017103, 0.9989305490362176, 0.9989400000000005], [-0.9229978729988528, -0.9230241020380707, -0.9166399999999983], [-0.9516144063670166, -0.9516182849474957, -0.947900000000004], [0.9992686577373032, 0.9992685617696049, 0.9992600000000003], [-0.9627022901732113, -0.9627322248492155, -0.9601800000000087], [-0.9421561449471566, -0.9421512559468043, -0.9380400000000005], [0.9989716333073094, 0.9989712956064732, 0.9989800000000006], [-0.9403051764360537, -0.9402619215263762, -0.9371200000000011], [-0.9604815091328742, -0.9604853871701431, -0.9583200000000074], [0.9991424590712783, 0.9991453382645259, 0.9991200000000006], [-0.9320178259024678, -0.9320267277691283, -0.9275800000000013]]\n"
     ]
    }
   ],
   "source": [
    "print(result)"
   ]
  },
  {
   "cell_type": "code",
   "execution_count": 17,
   "metadata": {},
   "outputs": [],
   "source": [
    "a = [x[0] for x in result]\n",
    "b = [x[1] for x in result]\n",
    "c = [x[2] for x in result]"
   ]
  },
  {
   "cell_type": "code",
   "execution_count": 18,
   "metadata": {},
   "outputs": [
    {
     "name": "stdout",
     "output_type": "stream",
     "text": [
      "[0.9987787466424869, 0.9987182532043005, 0.9991570055812374, 0.998911766359963, 0.998424734032321, 0.9986873659421951, 0.9988145674375664, 0.9987124461196607, 0.9983147880848007, 0.9988957662485434, 0.9989312322017103, -0.9229978729988528, -0.9516144063670166, 0.9992686577373032, -0.9627022901732113, -0.9421561449471566, 0.9989716333073094, -0.9403051764360537, -0.9604815091328742, 0.9991424590712783, -0.9320178259024678] [0.9987783043161184, 0.9987161268926789, 0.9991569810423662, 0.9989118038392957, 0.9984256698222981, 0.998686746152096, 0.9988139457414072, 0.998710502125728, 0.998314370281757, 0.9989034972769026, 0.9989305490362176, -0.9230241020380707, -0.9516182849474957, 0.9992685617696049, -0.9627322248492155, -0.9421512559468043, 0.9989712956064732, -0.9402619215263762, -0.9604853871701431, 0.9991453382645259, -0.9320267277691283] [0.9988200000000008, 0.9987000000000005, 0.9991600000000005, 0.9989600000000005, 0.9983600000000008, 0.9987200000000006, 0.9987800000000004, 0.9986800000000007, 0.9983000000000011, 0.9988400000000006, 0.9989400000000005, -0.9166399999999983, -0.947900000000004, 0.9992600000000003, -0.9601800000000087, -0.9380400000000005, 0.9989800000000006, -0.9371200000000011, -0.9583200000000074, 0.9991200000000006, -0.9275800000000013]\n"
     ]
    }
   ],
   "source": [
    "print(a,b,c)"
   ]
  },
  {
   "cell_type": "code",
   "execution_count": 20,
   "metadata": {},
   "outputs": [
    {
     "data": {
      "text/plain": [
       "<matplotlib.collections.PathCollection at 0x7fbae8824a90>"
      ]
     },
     "execution_count": 20,
     "metadata": {},
     "output_type": "execute_result"
    },
    {
     "data": {
      "image/png": "[encoded data removed]",
      "text/plain": [
       "<Figure size 432x288 with 1 Axes>"
      ]
     },
     "metadata": {
      "needs_background": "light"
     },
     "output_type": "display_data"
    }
   ],
   "source": [
    "x = np.array([i for i in range(21)])\n",
    "\n",
    "plt.plot(x,a)\n",
    "plt.scatter(x,b,c ='#DC143C', alpha=0.6)\n",
    "# plt.plot(x,c)"
   ]
  },
  {
   "cell_type": "code",
   "execution_count": 19,
   "metadata": {},
   "outputs": [
    {
     "name": "stdout",
     "output_type": "stream",
     "text": [
      "0.98\n"
     ]
    }
   ],
   "source": [
    "tau=20\n",
    "lmd=0.1\n",
    "rho=1\n",
    "y = 0.6\n",
    "p = (1-lmd)/(1+pow(np.e,(-(2+rho)*y-rho)*tau))+lmd*(1+y)/2\n",
    "print(p)"
   ]
  },
  {
   "cell_type": "code",
   "execution_count": 35,
   "metadata": {},
   "outputs": [
    {
     "data": {
      "text/plain": [
       "<matplotlib.collections.PathCollection at 0x7fcc5a457dd0>"
      ]
     },
     "execution_count": 35,
     "metadata": {},
     "output_type": "execute_result"
    },
    {
     "data": {
      "image/png": "[encoded data removed]",
      "text/plain": [
       "<Figure size 432x288 with 1 Axes>"
      ]
     },
     "metadata": {
      "needs_background": "light"
     },
     "output_type": "display_data"
    }
   ],
   "source": [
    "x = np.array([i/10 for i in range(10)])\n",
    "\n",
    "plt.plot(x,a)\n",
    "plt.scatter(x,b,c ='#DC143C', alpha=0.6)\n",
    "# plt.plot(x,c)"
   ]
  },
  {
   "cell_type": "code",
   "execution_count": 41,
   "metadata": {},
   "outputs": [
    {
     "data": {
      "text/plain": [
       "<matplotlib.collections.PathCollection at 0x7fcc5a4da190>"
      ]
     },
     "execution_count": 41,
     "metadata": {},
     "output_type": "execute_result"
    },
    {
     "data": {
      "image/png": "[encoded data removed]",
      "text/plain": [
       "<Figure size 432x288 with 1 Axes>"
      ]
     },
     "metadata": {
      "needs_background": "light"
     },
     "output_type": "display_data"
    }
   ],
   "source": [
    "x = np.array([i/10 for i in range(10)])\n",
    "\n",
    "plt.plot(x,a)\n",
    "plt.scatter(x,b,c ='#DC143C', alpha=0.6)\n",
    "# plt.plot(x,c)"
   ]
  },
  {
   "cell_type": "code",
   "execution_count": null,
   "metadata": {},
   "outputs": [],
   "source": []
  },
  {
   "cell_type": "code",
   "execution_count": null,
   "metadata": {},
   "outputs": [],
   "source": []
  }
 ],
 "metadata": {
  "kernelspec": {
   "display_name": "Python 3",
   "language": "python",
   "name": "python3"
  },
  "language_info": {
   "codemirror_mode": {
    "name": "ipython",
    "version": 3
   },
   "file_extension": ".py",
   "mimetype": "text/x-python",
   "name": "python",
   "nbconvert_exporter": "python",
   "pygments_lexer": "ipython3",
   "version": "3.7.6"
  }
 },
 "nbformat": 4,
 "nbformat_minor": 4
}
